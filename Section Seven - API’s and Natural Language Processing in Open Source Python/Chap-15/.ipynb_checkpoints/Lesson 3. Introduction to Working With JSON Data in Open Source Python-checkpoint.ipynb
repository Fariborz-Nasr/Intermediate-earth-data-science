{
 "cells": [
  {
   "cell_type": "markdown",
   "id": "9660f6e0",
   "metadata": {},
   "source": [
    "## Work with JSON Data in Python\n"
   ]
  },
  {
   "cell_type": "code",
   "execution_count": 1,
   "id": "6e6202cc",
   "metadata": {},
   "outputs": [],
   "source": [
    "# Import packages\n",
    "import json\n",
    "import pandas as pd"
   ]
  },
  {
   "cell_type": "code",
   "execution_count": 2,
   "id": "9b47cf83",
   "metadata": {},
   "outputs": [
    {
     "data": {
      "text/plain": [
       "{'name': 'Chaya', 'age': 12, 'city': 'Boulder', 'type': 'Canine'}"
      ]
     },
     "execution_count": 2,
     "metadata": {},
     "output_type": "execute_result"
    }
   ],
   "source": [
    "# Create and populate the dictionary\n",
    "dict ={}\n",
    "dict[\"name\"] = \"Chaya\"\n",
    "dict[\"age\"] = 12\n",
    "dict[\"city\"] = \"Boulder\"\n",
    "dict[\"type\"] = \"Canine\"\n",
    "\n",
    "dict\n"
   ]
  },
  {
   "cell_type": "code",
   "execution_count": 3,
   "id": "9f74f337",
   "metadata": {},
   "outputs": [
    {
     "data": {
      "text/plain": [
       "'{\"name\": \"Chaya\", \"age\": 12, \"city\": \"Boulder\", \"type\": \"Canine\"}'"
      ]
     },
     "execution_count": 3,
     "metadata": {},
     "output_type": "execute_result"
    }
   ],
   "source": [
    "json_example = json.dumps(dict, ensure_ascii=False)\n",
    "\n",
    "json_example\n"
   ]
  },
  {
   "cell_type": "code",
   "execution_count": 4,
   "id": "725be011",
   "metadata": {},
   "outputs": [
    {
     "data": {
      "text/plain": [
       "str"
      ]
     },
     "execution_count": 4,
     "metadata": {},
     "output_type": "execute_result"
    }
   ],
   "source": [
    "type(json_example)"
   ]
  },
  {
   "cell_type": "code",
   "execution_count": 9,
   "id": "51e108fd",
   "metadata": {},
   "outputs": [
    {
     "data": {
      "text/plain": [
       "str"
      ]
     },
     "execution_count": 9,
     "metadata": {},
     "output_type": "execute_result"
    }
   ],
   "source": [
    "json_sample = '{\"name\":\"Chaya\", \"age\":12, \"city\":\"Boulder\", \"type\":\"Canine\"}'\n",
    "type(json_sample)"
   ]
  },
  {
   "cell_type": "code",
   "execution_count": 11,
   "id": "d5e32674",
   "metadata": {},
   "outputs": [
    {
     "data": {
      "text/plain": [
       "dict"
      ]
     },
     "execution_count": 11,
     "metadata": {},
     "output_type": "execute_result"
    }
   ],
   "source": [
    "# Load JSON into dictionary\n",
    "data_sample = json.loads(json_sample)\n",
    "type(data_sample)"
   ]
  },
  {
   "cell_type": "code",
   "execution_count": 12,
   "id": "b0dd0024",
   "metadata": {},
   "outputs": [
    {
     "data": {
      "text/plain": [
       "'Chaya'"
      ]
     },
     "execution_count": 12,
     "metadata": {},
     "output_type": "execute_result"
    }
   ],
   "source": [
    "data_sample[\"name\"]"
   ]
  },
  {
   "cell_type": "code",
   "execution_count": 13,
   "id": "9fb7ffe8",
   "metadata": {},
   "outputs": [
    {
     "data": {
      "text/plain": [
       "'Boulder'"
      ]
     },
     "execution_count": 13,
     "metadata": {},
     "output_type": "execute_result"
    }
   ],
   "source": [
    "data_sample[\"city\"]"
   ]
  },
  {
   "cell_type": "markdown",
   "id": "c6f8c841",
   "metadata": {},
   "source": [
    "## Python Dictionary to Pandas Dataframe\n"
   ]
  },
  {
   "cell_type": "code",
   "execution_count": 15,
   "id": "e64e79f1",
   "metadata": {},
   "outputs": [
    {
     "data": {
      "text/html": [
       "<div>\n",
       "<style scoped>\n",
       "    .dataframe tbody tr th:only-of-type {\n",
       "        vertical-align: middle;\n",
       "    }\n",
       "\n",
       "    .dataframe tbody tr th {\n",
       "        vertical-align: top;\n",
       "    }\n",
       "\n",
       "    .dataframe thead th {\n",
       "        text-align: right;\n",
       "    }\n",
       "</style>\n",
       "<table border=\"1\" class=\"dataframe\">\n",
       "  <thead>\n",
       "    <tr style=\"text-align: right;\">\n",
       "      <th></th>\n",
       "      <th>0</th>\n",
       "    </tr>\n",
       "  </thead>\n",
       "  <tbody>\n",
       "    <tr>\n",
       "      <th>name</th>\n",
       "      <td>Chaya</td>\n",
       "    </tr>\n",
       "    <tr>\n",
       "      <th>age</th>\n",
       "      <td>12</td>\n",
       "    </tr>\n",
       "    <tr>\n",
       "      <th>city</th>\n",
       "      <td>Boulder</td>\n",
       "    </tr>\n",
       "    <tr>\n",
       "      <th>type</th>\n",
       "      <td>Canine</td>\n",
       "    </tr>\n",
       "  </tbody>\n",
       "</table>\n",
       "</div>"
      ],
      "text/plain": [
       "            0\n",
       "name    Chaya\n",
       "age        12\n",
       "city  Boulder\n",
       "type   Canine"
      ]
     },
     "execution_count": 15,
     "metadata": {},
     "output_type": "execute_result"
    }
   ],
   "source": [
    "df = pd.DataFrame.from_dict(data_sample, orient='index')\n",
    "df"
   ]
  },
  {
   "cell_type": "code",
   "execution_count": 17,
   "id": "4089c849",
   "metadata": {},
   "outputs": [
    {
     "data": {
      "text/plain": [
       "str"
      ]
     },
     "execution_count": 17,
     "metadata": {},
     "output_type": "execute_result"
    }
   ],
   "source": [
    "sample_json = df.to_json(orient='split')\n",
    "type(sample_json)"
   ]
  },
  {
   "cell_type": "code",
   "execution_count": 18,
   "id": "644298b2",
   "metadata": {},
   "outputs": [
    {
     "data": {
      "text/plain": [
       "'{\"columns\":[0],\"index\":[\"name\",\"age\",\"city\",\"type\"],\"data\":[[\"Chaya\"],[12],[\"Boulder\"],[\"Canine\"]]}'"
      ]
     },
     "execution_count": 18,
     "metadata": {},
     "output_type": "execute_result"
    }
   ],
   "source": [
    "sample_json"
   ]
  },
  {
   "cell_type": "code",
   "execution_count": null,
   "id": "d6403374",
   "metadata": {},
   "outputs": [],
   "source": []
  }
 ],
 "metadata": {
  "kernelspec": {
   "display_name": "Python 3 (ipykernel)",
   "language": "python",
   "name": "python3"
  },
  "language_info": {
   "codemirror_mode": {
    "name": "ipython",
    "version": 3
   },
   "file_extension": ".py",
   "mimetype": "text/x-python",
   "name": "python",
   "nbconvert_exporter": "python",
   "pygments_lexer": "ipython3",
   "version": "3.8.12"
  }
 },
 "nbformat": 4,
 "nbformat_minor": 5
}
