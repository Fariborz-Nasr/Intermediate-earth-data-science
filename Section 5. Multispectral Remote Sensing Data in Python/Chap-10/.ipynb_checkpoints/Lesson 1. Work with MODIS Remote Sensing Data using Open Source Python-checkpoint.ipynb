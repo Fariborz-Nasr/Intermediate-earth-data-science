{
 "cells": [
  {
   "cell_type": "markdown",
   "id": "bb3727c1",
   "metadata": {},
   "source": [
    "# Lesson 1. Work with MODIS Remote Sensing Data using Open Source Python"
   ]
  },
  {
   "cell_type": "markdown",
   "id": "dac43aeb",
   "metadata": {},
   "source": [
    "## Open MODIS Imagery"
   ]
  },
  {
   "cell_type": "code",
   "execution_count": 3,
   "id": "1348f9cb",
   "metadata": {},
   "outputs": [],
   "source": [
    "# Import necessary packages\n",
    "\n",
    "from glob import glob\n",
    "import os\n",
    "\n",
    "import numpy as np\n",
    "import numpy.ma as ma\n",
    "import matplotlib.pyplot as plt\n",
    "import geopandas as gpd\n",
    "import rioxarray as rxr\n",
    "import xarray as xr\n",
    "from rasterio.plot import plotting_extent\n",
    "import earthpy as et\n",
    "import earthpy.spatial as es\n",
    "import earthpy.plot as ep\n",
    "from shapely.geometry import box\n",
    "\n",
    "data = et.data.get_data('cold-springs-fire')\n",
    "os.chdir(os.path.join(et.io.HOME, 'earth-analytics', 'data'))\n"
   ]
  },
  {
   "cell_type": "code",
   "execution_count": 4,
   "id": "3d067789",
   "metadata": {},
   "outputs": [
    {
     "data": {
      "text/plain": [
       "['cold-springs-fire\\\\modis\\\\reflectance\\\\07_july_2016\\\\crop\\\\MOD09GA.A2016189.h09v05.006.2016191073856_sur_refl_b01_1.tif',\n",
       " 'cold-springs-fire\\\\modis\\\\reflectance\\\\07_july_2016\\\\crop\\\\MOD09GA.A2016189.h09v05.006.2016191073856_sur_refl_b02_1.tif',\n",
       " 'cold-springs-fire\\\\modis\\\\reflectance\\\\07_july_2016\\\\crop\\\\MOD09GA.A2016189.h09v05.006.2016191073856_sur_refl_b03_1.tif',\n",
       " 'cold-springs-fire\\\\modis\\\\reflectance\\\\07_july_2016\\\\crop\\\\MOD09GA.A2016189.h09v05.006.2016191073856_sur_refl_b04_1.tif',\n",
       " 'cold-springs-fire\\\\modis\\\\reflectance\\\\07_july_2016\\\\crop\\\\MOD09GA.A2016189.h09v05.006.2016191073856_sur_refl_b05_1.tif',\n",
       " 'cold-springs-fire\\\\modis\\\\reflectance\\\\07_july_2016\\\\crop\\\\MOD09GA.A2016189.h09v05.006.2016191073856_sur_refl_b06_1.tif',\n",
       " 'cold-springs-fire\\\\modis\\\\reflectance\\\\07_july_2016\\\\crop\\\\MOD09GA.A2016189.h09v05.006.2016191073856_sur_refl_b07_1.tif']"
      ]
     },
     "execution_count": 4,
     "metadata": {},
     "output_type": "execute_result"
    }
   ],
   "source": [
    "# Create list of MODIS rasters for surface reflectance\n",
    "modis_bands_pre_list = glob(os.path.join(\"cold-springs-fire\",\n",
    "                                         \"modis\",\n",
    "                                         \"reflectance\",\n",
    "                                         \"07_july_2016\",\n",
    "                                         \"crop\",\n",
    "                                         \"*_sur_refl_b*.tif\"))\n",
    "\n",
    "# sort the list of bands\n",
    "modis_bands_pre_list.sort()\n",
    "modis_bands_pre_list"
   ]
  },
  {
   "cell_type": "code",
   "execution_count": null,
   "id": "06aeaaaf",
   "metadata": {},
   "outputs": [],
   "source": []
  }
 ],
 "metadata": {
  "kernelspec": {
   "display_name": "Python 3 (ipykernel)",
   "language": "python",
   "name": "python3"
  },
  "language_info": {
   "codemirror_mode": {
    "name": "ipython",
    "version": 3
   },
   "file_extension": ".py",
   "mimetype": "text/x-python",
   "name": "python",
   "nbconvert_exporter": "python",
   "pygments_lexer": "ipython3",
   "version": "3.8.12"
  }
 },
 "nbformat": 4,
 "nbformat_minor": 5
}
