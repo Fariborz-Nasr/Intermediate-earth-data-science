{
 "cells": [
  {
   "cell_type": "code",
   "execution_count": 1,
   "id": "123cd32b",
   "metadata": {},
   "outputs": [],
   "source": [
    "import os\n",
    "import numpy as np\n",
    "import matplotlib.pyplot as plt\n",
    "import pandas as pd\n",
    "import geopandas as gpd\n",
    "from shapely.geometry import Point\n",
    "import earthpy as et\n",
    "\n",
    "# Set working dir & get data\n",
    "data = et.data.get_data('spatial-vector-lidar')\n",
    "os.chdir(os.path.join(et.io.HOME, 'earth-analytics'))"
   ]
  },
  {
   "cell_type": "code",
   "execution_count": 2,
   "id": "ff3b9da5",
   "metadata": {},
   "outputs": [
    {
     "data": {
      "text/plain": [
       "<Geographic 2D CRS: EPSG:4326>\n",
       "Name: WGS 84\n",
       "Axis Info [ellipsoidal]:\n",
       "- Lat[north]: Geodetic latitude (degree)\n",
       "- Lon[east]: Geodetic longitude (degree)\n",
       "Area of Use:\n",
       "- name: World.\n",
       "- bounds: (-180.0, -90.0, 180.0, 90.0)\n",
       "Datum: World Geodetic System 1984 ensemble\n",
       "- Ellipsoid: WGS 84\n",
       "- Prime Meridian: Greenwich"
      ]
     },
     "execution_count": 2,
     "metadata": {},
     "output_type": "execute_result"
    }
   ],
   "source": [
    "# Import world boundary shapefile\n",
    "worldBound_path = os.path.join(\"data\", \"spatial-vector-lidar\", \"global\", \n",
    "                               \"ne_110m_land\", \"ne_110m_land.shp\")\n",
    "worldBound = gpd.read_file(worldBound_path)\n",
    "\n",
    "worldBound.crs"
   ]
  },
  {
   "cell_type": "code",
   "execution_count": 3,
   "id": "ea1d927e",
   "metadata": {},
   "outputs": [
    {
     "name": "stderr",
     "output_type": "stream",
     "text": [
      "C:\\Users\\fnasr\\Miniconda3\\envs\\earth-analytics-python\\lib\\site-packages\\pyproj\\crs\\crs.py:131: FutureWarning: '+init=<authority>:<code>' syntax is deprecated. '<authority>:<code>' is the preferred initialization method. When making the change, be mindful of axis order changes: https://pyproj4.github.io/pyproj/stable/gotchas.html#axis-order-changes-in-proj-6\n",
      "  in_crs_string = _prepare_from_proj_string(in_crs_string)\n"
     ]
    },
    {
     "data": {
      "text/plain": [
       "<Derived Projected CRS: EPSG:2957>\n",
       "Name: NAD83(CSRS) / UTM zone 13N\n",
       "Axis Info [cartesian]:\n",
       "- E[east]: Easting (metre)\n",
       "- N[north]: Northing (metre)\n",
       "Area of Use:\n",
       "- name: Canada between 108°W and 102°W onshore and offshore - Northwest Territories, Nunavut, Saskatchewan.\n",
       "- bounds: (-108.0, 48.99, -102.0, 84.0)\n",
       "Coordinate Operation:\n",
       "- name: UTM zone 13N\n",
       "- method: Transverse Mercator\n",
       "Datum: NAD83 Canadian Spatial Reference System\n",
       "- Ellipsoid: GRS 1980\n",
       "- Prime Meridian: Greenwich"
      ]
     },
     "execution_count": 3,
     "metadata": {},
     "output_type": "execute_result"
    }
   ],
   "source": [
    "# Create a numpy array with x,y location of Boulder\n",
    "boulder_xy = np.array([[476911.31, 4429455.35]])\n",
    "\n",
    "# Create shapely point object\n",
    "boulder_xy_pt = [Point(xy) for xy in boulder_xy]\n",
    "\n",
    "# Convert to spatial dataframe - geodataframe -- assign the CRS using epsg code\n",
    "boulder_loc = gpd.GeoDataFrame(boulder_xy_pt,\n",
    "                               columns=['geometry'],\n",
    "                               crs={'init': 'epsg:2957'})\n",
    "\n",
    "# View crs of new spatial points object\n",
    "boulder_loc.crs"
   ]
  },
  {
   "cell_type": "code",
   "execution_count": null,
   "id": "cf602769",
   "metadata": {},
   "outputs": [],
   "source": []
  }
 ],
 "metadata": {
  "kernelspec": {
   "display_name": "Python 3 (ipykernel)",
   "language": "python",
   "name": "python3"
  },
  "language_info": {
   "codemirror_mode": {
    "name": "ipython",
    "version": 3
   },
   "file_extension": ".py",
   "mimetype": "text/x-python",
   "name": "python",
   "nbconvert_exporter": "python",
   "pygments_lexer": "ipython3",
   "version": "3.8.12"
  }
 },
 "nbformat": 4,
 "nbformat_minor": 5
}
